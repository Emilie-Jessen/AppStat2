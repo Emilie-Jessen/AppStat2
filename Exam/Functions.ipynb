{
 "cells": [
  {
   "cell_type": "markdown",
   "metadata": {},
   "source": [
    "# Exam - Advanced Methods in Applied Statistics 2024 - Emilie Jessen"
   ]
  },
  {
   "cell_type": "markdown",
   "metadata": {},
   "source": [
    "## Problem 5 "
   ]
  },
  {
   "cell_type": "code",
   "execution_count": 7,
   "metadata": {},
   "outputs": [],
   "source": [
    "import numpy as np\n",
    "import matplotlib as mpl\n",
    "import matplotlib.pyplot as plt\n",
    "import pandas as pd\n",
    "import scipy \n",
    "from iminuit import Minuit\n",
    "import nestle"
   ]
  },
  {
   "cell_type": "code",
   "execution_count": 3,
   "metadata": {},
   "outputs": [],
   "source": [
    "# Set som plotting standards:\n",
    "font = {'family' : 'serif',\n",
    "        'weight' : 'normal',\n",
    "        'size'   : 18}\n",
    "mpl.rc('font', **font)\n",
    "\n",
    "axes = {'facecolor': 'ghostwhite'}\n",
    "mpl.rc('axes', **axes)\n",
    "\n",
    "# Add grid\n",
    "mpl.rc('axes', grid=True)\n",
    "\n",
    "# Set custom color cycle\n",
    "custom_colors= ['dodgerblue', 'red', 'limegreen', 'orange', 'orchid', 'black', 'slategrey', \n",
    "                'navy', 'magenta', 'forestgreen', 'lightblue', 'maroon', 'gold', 'lightcoral', \n",
    "                'mediumseagreen', 'darkorange', 'darkviolet', 'dimgray', 'darkblue', 'darkred',]\n",
    "plt.rcParams['axes.prop_cycle'] = plt.cycler(color=custom_colors)\n",
    "\n",
    "# Set inside tickmarks\n",
    "mpl.rcParams['xtick.direction'] = 'in'\n",
    "mpl.rcParams['ytick.direction'] = 'in'\n",
    "mpl.rcParams['xtick.minor.visible'] = True\n",
    "mpl.rcParams['ytick.minor.visible'] = True"
   ]
  },
  {
   "cell_type": "code",
   "execution_count": 4,
   "metadata": {},
   "outputs": [],
   "source": [
    "save_plots = True\n",
    "np.random.seed(42)"
   ]
  },
  {
   "cell_type": "code",
   "execution_count": 1,
   "metadata": {},
   "outputs": [],
   "source": [
    "def variance(data):\n",
    "    \"\"\"Function to calculate the mean and variance of a data set.  \n",
    "    The bias corrected variance is calculated by dividing by N-1 instead of N. \"\"\"\n",
    "\n",
    "    N = len(data)\n",
    "    mean = np.mean(data)\n",
    "    var_biased = np.sum((data - mean)**2) / N\n",
    "    var_unbiased = np.sum((data - mean)**2) / (N - 1)\n",
    "    \n",
    "    return mean, var_biased, var_unbiased"
   ]
  },
  {
   "cell_type": "code",
   "execution_count": null,
   "metadata": {},
   "outputs": [],
   "source": [
    "def likelihood(data, func, params):\n",
    "    \"\"\"Function to calculate the likelihood of a model given the data. \n",
    "    The likelihood is calculated as the product of the probabilities of the data points given the model. \"\"\"\n",
    "\n",
    "    likelihood = np.prod(func(data, *params))\n",
    "\n",
    "    return likelihood"
   ]
  },
  {
   "cell_type": "code",
   "execution_count": 2,
   "metadata": {},
   "outputs": [],
   "source": [
    "def raster_scan(data, range1, range2, likelihood, func, step=100): \n",
    "    \"\"\"Function to perform a raster scan over the parameter space inside the ranges.\n",
    "    The likelihood is calculated for each point in the grid and the maximum likelihood is found.\n",
    "    The function returns the likelihood grid, maximum likelihood and the parameters that give the maximum likelihood.\"\"\"\n",
    "\n",
    "    # Create a grid of parameter values\n",
    "    x = np.linspace(range1[0], range1[1], step)\n",
    "    y = np.linspace(range2[0], range2[1], step)\n",
    "    X, Y = np.meshgrid(x, y)\n",
    "    Z = np.zeros_like(X)\n",
    "\n",
    "    # Evaluate the likelihood at each point in the grid\n",
    "    for i in range(len(x)):\n",
    "        for j in range(len(y)):\n",
    "            Z[j, i] = likelihood(data, func, [x[i], y[j]])\n",
    "\n",
    "    # Find the maximum likelihood\n",
    "    max_likelihood = np.max(Z)\n",
    "    idx = np.unravel_index(np.argmax(Z, axis=None), Z.shape)\n",
    "    max_params = [x[idx[0]], y[idx[1]]]\n",
    "\n",
    "    return Z, max_likelihood, max_params"
   ]
  },
  {
   "cell_type": "code",
   "execution_count": 3,
   "metadata": {},
   "outputs": [],
   "source": [
    "def plot_raster(Z, range1, range2, max_params, fig, ax):\n",
    "    \"\"\"Function to plot the raster scan results. \"\"\"\n",
    "\n",
    "    c = ax.pcolormesh(range1, range2, Z, cmap='viridis')\n",
    "    ax.set_title('Raster scan')\n",
    "    ax.scatter(max_params[0], max_params[1], marker='x', color='red', label='Max likelihood')\n",
    "    ax.legend()\n",
    "    fig.colorbar(c, label='Likelihood')"
   ]
  },
  {
   "cell_type": "code",
   "execution_count": null,
   "metadata": {},
   "outputs": [],
   "source": []
  }
 ],
 "metadata": {
  "kernelspec": {
   "display_name": "base",
   "language": "python",
   "name": "python3"
  },
  "language_info": {
   "codemirror_mode": {
    "name": "ipython",
    "version": 3
   },
   "file_extension": ".py",
   "mimetype": "text/x-python",
   "name": "python",
   "nbconvert_exporter": "python",
   "pygments_lexer": "ipython3",
   "version": "3.8.12"
  },
  "orig_nbformat": 4
 },
 "nbformat": 4,
 "nbformat_minor": 2
}
