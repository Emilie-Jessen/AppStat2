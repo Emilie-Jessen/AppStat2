{
 "cells": [
  {
   "cell_type": "code",
   "execution_count": 1,
   "metadata": {},
   "outputs": [],
   "source": [
    "import numpy as np\n",
    "import matplotlib.pyplot as plt\n",
    "import pandas as pd"
   ]
  },
  {
   "cell_type": "code",
   "execution_count": 2,
   "metadata": {},
   "outputs": [
    {
     "name": "stderr",
     "output_type": "stream",
     "text": [
      "/var/folders/g5/x6l6jbcj4tb_kz1_c88z7rlc0000gn/T/ipykernel_44926/1821277503.py:13: VisibleDeprecationWarning: Creating an ndarray from ragged nested sequences (which is a list-or-tuple of lists-or-tuples-or ndarrays with different lengths or shapes) is deprecated. If you meant to do this, you must specify 'dtype=object' when creating the ndarray.\n",
      "  data_sets = np.array([data[data_set_split[i]+1:data_set_split[i+1]].astype('float') for i in range(len(data_set_split)-1)])\n"
     ]
    }
   ],
   "source": [
    "# Read the data:\n",
    "data = pd.read_csv('FranksNumbers.txt', header=1, delimiter='\\t', names=['x', 'y'])\n",
    "data = data.to_numpy()\n",
    "\n",
    "# Identify the five different data set in the file. They are seperated be a string\n",
    "data_set_split = np.where(np.array([data[i][0].isdigit() for i in range(len(data))]) == False)[0]\n",
    "\n",
    "# Add the first and last index to the array\n",
    "data_set_split = np.append(-1, data_set_split)\n",
    "data_set_split = np.append(data_set_split, len(data))\n",
    "\n",
    "# Split the data into the five different data sets\n",
    "data_sets = np.array([data[data_set_split[i]+1:data_set_split[i+1]].astype('float') for i in range(len(data_set_split)-1)])"
   ]
  },
  {
   "cell_type": "code",
   "execution_count": 3,
   "metadata": {},
   "outputs": [],
   "source": [
    "def variance(data):\n",
    "    \"\"\"Function to calculate the mean and variance of a data set.  \n",
    "    The bias corrected variance is calculated by dividing by N-1 instead of N. \"\"\"\n",
    "\n",
    "    N = len(data)\n",
    "    mean = np.mean(data)\n",
    "    var_biased = np.sum((data - mean)**2) / N\n",
    "    var_unbiased = np.sum((data - mean)**2) / (N - 1)\n",
    "    \n",
    "    return mean, var_biased, var_unbiased\n"
   ]
  },
  {
   "cell_type": "code",
   "execution_count": 4,
   "metadata": {},
   "outputs": [
    {
     "name": "stdout",
     "output_type": "stream",
     "text": [
      "Data set 1:\n",
      "Mean: 7.501\n",
      "Biased variance: 3.752\n",
      "Unbiased variance: 4.127 \n",
      "\n",
      "Data set 2:\n",
      "Mean: 7.501\n",
      "Biased variance: 3.752\n",
      "Unbiased variance: 4.128 \n",
      "\n",
      "Data set 3:\n",
      "Mean: 7.500\n",
      "Biased variance: 3.748\n",
      "Unbiased variance: 4.123 \n",
      "\n",
      "Data set 4:\n",
      "Mean: 7.501\n",
      "Biased variance: 3.748\n",
      "Unbiased variance: 4.123 \n",
      "\n",
      "Data set 5:\n",
      "Mean: 7.501\n",
      "Biased variance: 3.750\n",
      "Unbiased variance: 3.837 \n",
      "\n"
     ]
    }
   ],
   "source": [
    "for i in range(len(data_sets)):\n",
    "    mean, var_biased, var_unbiased = variance(data_sets[i][:,1])\n",
    "    print(f'Data set {i+1}:')\n",
    "    print(f'Mean: {mean:.3f}')\n",
    "    print(f'Biased variance: {var_biased:.3f}')\n",
    "    print(f'Unbiased variance: {var_unbiased:.3f} \\n')"
   ]
  },
  {
   "cell_type": "code",
   "execution_count": 5,
   "metadata": {},
   "outputs": [],
   "source": [
    "def chi2(data):\n",
    "    \"\"\"Function to calculate the chi2 value for a data set. \n",
    "    The chi2 value is calculated as the sum of the squared difference between the data and the mean, divided by the variance. \"\"\"\n",
    "\n",
    "    x = data[:,0]\n",
    "    y = data[:,1]\n",
    "\n",
    "    y_exp = x * 0.48 + 3.02\n",
    "    y_err_fixed = np.ones(len(data)) * 1.22\n",
    "\n",
    "    chi2_poisson = np.sum((y - y_exp)**2 / y)\n",
    "    chi2_fixed = np.sum((y - y_exp)**2 / y_err_fixed**2)\n",
    "    \n",
    "    return chi2_poisson, chi2_fixed"
   ]
  },
  {
   "cell_type": "code",
   "execution_count": 6,
   "metadata": {},
   "outputs": [
    {
     "name": "stdout",
     "output_type": "stream",
     "text": [
      "Data set 1:\n",
      "Degree of freedom: 9\n",
      "Chi2 / Reduced Chi2 - Poisson uncertainty: 1.895 / 0.211\n",
      "Chi2 / Reduced Chi2 - Fixed uncertainty: 9.468 / 1.052 \n",
      "\n",
      "Data set 2:\n",
      "Degree of freedom: 9\n",
      "Chi2 / Reduced Chi2 - Poisson uncertainty: 2.406 / 0.267\n",
      "Chi2 / Reduced Chi2 - Fixed uncertainty: 9.477 / 1.053 \n",
      "\n",
      "Data set 3:\n",
      "Degree of freedom: 9\n",
      "Chi2 / Reduced Chi2 - Poisson uncertainty: 1.208 / 0.134\n",
      "Chi2 / Reduced Chi2 - Fixed uncertainty: 9.460 / 1.051 \n",
      "\n",
      "Data set 4:\n",
      "Degree of freedom: 9\n",
      "Chi2 / Reduced Chi2 - Poisson uncertainty: 2.017 / 0.224\n",
      "Chi2 / Reduced Chi2 - Fixed uncertainty: 9.454 / 1.050 \n",
      "\n",
      "Data set 5:\n",
      "Degree of freedom: 42\n",
      "Chi2 / Reduced Chi2 - Poisson uncertainty: 7.526 / 0.179\n",
      "Chi2 / Reduced Chi2 - Fixed uncertainty: 37.858 / 0.901 \n",
      "\n"
     ]
    }
   ],
   "source": [
    "for i in range(len(data_sets)):\n",
    "    chi2_poisson, chi2_fixed = chi2(data_sets[i])\n",
    "    print(f'Data set {i+1}:')\n",
    "    print(f'Degree of freedom: {len(data_sets[i]) - 2}')\n",
    "    print(f'Chi2 / Reduced Chi2 - Poisson uncertainty: {chi2_poisson:.3f} / {chi2_poisson / (len(data_sets[i]) - 2):.3f}')\n",
    "    print(f'Chi2 / Reduced Chi2 - Fixed uncertainty: {chi2_fixed:.3f} / {chi2_fixed / (len(data_sets[i]) - 2):.3f} \\n')"
   ]
  },
  {
   "cell_type": "code",
   "execution_count": null,
   "metadata": {},
   "outputs": [],
   "source": [
    "\n",
    "\n"
   ]
  }
 ],
 "metadata": {
  "kernelspec": {
   "display_name": "base",
   "language": "python",
   "name": "python3"
  },
  "language_info": {
   "codemirror_mode": {
    "name": "ipython",
    "version": 3
   },
   "file_extension": ".py",
   "mimetype": "text/x-python",
   "name": "python",
   "nbconvert_exporter": "python",
   "pygments_lexer": "ipython3",
   "version": "3.8.12"
  },
  "orig_nbformat": 4
 },
 "nbformat": 4,
 "nbformat_minor": 2
}
